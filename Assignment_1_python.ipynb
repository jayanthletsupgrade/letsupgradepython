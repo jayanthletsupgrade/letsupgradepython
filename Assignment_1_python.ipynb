{
  "nbformat": 4,
  "nbformat_minor": 0,
  "metadata": {
    "colab": {
      "name": "Assignment 1 python",
      "provenance": [],
      "collapsed_sections": [],
      "authorship_tag": "ABX9TyNELNGr8Vka00L4bE+wRQVQ",
      "include_colab_link": true
    },
    "kernelspec": {
      "name": "python3",
      "display_name": "Python 3"
    }
  },
  "cells": [
    {
      "cell_type": "markdown",
      "metadata": {
        "id": "view-in-github",
        "colab_type": "text"
      },
      "source": [
        "<a href=\"https://colab.research.google.com/github/jayanthletsupgrade/letsupgradepython/blob/master/Assignment_1_python.ipynb\" target=\"_parent\"><img src=\"https://colab.research.google.com/assets/colab-badge.svg\" alt=\"Open In Colab\"/></a>"
      ]
    },
    {
      "cell_type": "code",
      "metadata": {
        "id": "y78DA2r7ID4G",
        "colab_type": "code",
        "colab": {
          "base_uri": "https://localhost:8080/",
          "height": 51
        },
        "outputId": "105795db-166c-458d-a2ba-1d6defff861b"
      },
      "source": [
        "altitude=input(\"Enter the altitude\")\n",
        "altitude=int(altitude)\n",
        "if altitude<=1000:\n",
        "     print(\"safe landing\")\n",
        "elif altitude<5000:\n",
        "     print(\"Bring down to 1000\")\n",
        "else:\n",
        "     print(\"Turn around\")"
      ],
      "execution_count": null,
      "outputs": [
        {
          "output_type": "stream",
          "text": [
            "Enter the altitude900\n",
            "safe landing\n"
          ],
          "name": "stdout"
        }
      ]
    }
  ]
}